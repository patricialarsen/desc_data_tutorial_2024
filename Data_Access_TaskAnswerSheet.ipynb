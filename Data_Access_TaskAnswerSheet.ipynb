{
 "cells": [
  {
   "cell_type": "markdown",
   "id": "8ab730fe-d6ea-427d-a2db-52c88f8deb27",
   "metadata": {},
   "source": [
    "# Answers!\n",
    "\n",
    "## Task! Get some data\n",
    "\n",
    "With the filters detect_isPrimary, and refExtendedness ==1 (galaxies only), get the following quantities in the g band:\n",
    "\n",
    "* From the DP0.2 schema look for the PSF shapes (use PSF rather than DebiasedPSF)\n",
    "* Compute the trace of the PSF (ixx + iyy)\n",
    "* Look for cModel magnitudes, and read in the g band magnitudes (you'll need to convert from fluxes)\n",
    "* Get RA/ DEC\n",
    "\n",
    "Hints:\n",
    "* Check utils.py for a flux to magnitude conversion function"
   ]
  },
  {
   "cell_type": "code",
   "execution_count": null,
   "id": "eb20056e-1651-483a-b285-d5ace7e49f81",
   "metadata": {
    "tags": []
   },
   "outputs": [],
   "source": [
    "import numpy as np\n",
    "import matplotlib.pyplot as plt\n",
    "import sys\n",
    "import time\n",
    "sys.path.insert(0,'/global/cfs/projectdirs/lsst/groups/SRV/gcr-catalogs-test')\n",
    "import GCRCatalogs\n",
    "\n",
    "%matplotlib inline\n"
   ]
  },
  {
   "cell_type": "code",
   "execution_count": null,
   "id": "aebb8e5a-9d72-4a25-9333-9687bafe70e0",
   "metadata": {
    "tags": []
   },
   "outputs": [],
   "source": [
    "catalog = GCRCatalogs.load_catalog('lsst_object')"
   ]
  },
  {
   "cell_type": "markdown",
   "id": "b31414e2-af02-454b-ad04-6e543301610f",
   "metadata": {},
   "source": [
    "I'm going to cheat a little from inspecting the schema, but here are the quantities we're looking for!"
   ]
  },
  {
   "cell_type": "code",
   "execution_count": null,
   "id": "762bcda6-88c5-44c3-ba89-e04c39e3155b",
   "metadata": {
    "tags": []
   },
   "outputs": [],
   "source": [
    "quantity_list = sorted(catalog.list_all_native_quantities())\n",
    "for i in range(len(quantity_list)):\n",
    "    q = quantity_list[i]\n",
    "    info = catalog.get_quantity_info(q)\n",
    "    if ('g_' in q) and ('PSF' in q) and 'Debiased' not in q:\n",
    "        print(q)\n",
    "\n"
   ]
  },
  {
   "cell_type": "markdown",
   "id": "beba6fc7-feb1-4bb5-ab97-d2e99e1cec76",
   "metadata": {},
   "source": [
    "Looks like we need to add the flag too! It's already in your filter_list if you want to just add the whole thing in. Let's look for cModelFlux values... Looks like they're simply g_cModelFlux etc."
   ]
  },
  {
   "cell_type": "code",
   "execution_count": null,
   "id": "a1da040e-87cf-484c-9ab6-e1d23d39ecb5",
   "metadata": {
    "tags": []
   },
   "outputs": [],
   "source": [
    "quantity_list = sorted(catalog.list_all_native_quantities())\n",
    "for i in range(len(quantity_list)):\n",
    "    q = quantity_list[i]\n",
    "    info = catalog.get_quantity_info(q)\n",
    "    if ('g_' in q) and ('cModel' in q):\n",
    "        print(q)\n"
   ]
  },
  {
   "cell_type": "markdown",
   "id": "a30c6222-d122-4982-92bc-8d5194cd9e8b",
   "metadata": {},
   "source": [
    "Now let's get our functions:\n"
   ]
  },
  {
   "cell_type": "code",
   "execution_count": null,
   "id": "c726821c-f01f-4998-a4cc-dbd79d8bf06c",
   "metadata": {
    "tags": []
   },
   "outputs": [],
   "source": [
    "def trace(ixx,ixy,iyy):\n",
    "    return (ixx+iyy)\n",
    "\n",
    "\n",
    "# borrowed from GCRCatalogs, can get this as from GCRCatalogs.dc2dm_catalog import convert_nanoJansky_to_mag, it's also in utils.py\n",
    "def convert_nanoJansky_to_mag(flux):\n",
    "    \"\"\"Convert calibrated nanoJansky flux to AB mag.\n",
    "    \"\"\"\n",
    "    AB_mag_zp_wrt_Jansky = 8.90  # Definition of AB\n",
    "    # 9 is from nano=10**(-9)\n",
    "    AB_mag_zp_wrt_nanoJansky = 2.5 * 9 + AB_mag_zp_wrt_Jansky\n",
    "\n",
    "    return -2.5 * np.log10(flux) + AB_mag_zp_wrt_nanoJansky\n"
   ]
  },
  {
   "cell_type": "code",
   "execution_count": null,
   "id": "7075eb7b-e359-459b-b2e0-9aec64aafce4",
   "metadata": {
    "tags": []
   },
   "outputs": [],
   "source": [
    "quantities = [\"g_ra\",\"g_decl\",\"g_ixxPSF\", \"g_ixyPSF\", \"g_iyyPSF\",\"g_cModelFlux\"]\n",
    "filters = ['detect_isPrimary','g_extendedness==1', 'g_iPSF_flag==False', 'g_cModel_flag==False']\n",
    "\n",
    "data = catalog.get_quantities(quantities, filters =filters)  \n",
    "\n",
    "plt.figure()\n",
    "plt.hist2d(data[\"g_ra\"],data[\"g_decl\"],bins=1000)\n",
    "plt.show()"
   ]
  },
  {
   "cell_type": "code",
   "execution_count": null,
   "id": "68b27de5-6837-4bf9-84c2-28ba1ad32c59",
   "metadata": {
    "tags": []
   },
   "outputs": [],
   "source": [
    "#add the extra quantities\n",
    "data['T_PSF'] = trace(data['g_ixxPSF'],data['g_ixyPSF'],data['g_iyyPSF'])\n",
    "data['g_mag'] = convert_nanoJansky_to_mag(data['g_cModelFlux'])"
   ]
  },
  {
   "cell_type": "markdown",
   "id": "d3794abc-4ff5-4022-801c-8c0699b71f34",
   "metadata": {},
   "source": [
    "Let's check it looks okay!"
   ]
  },
  {
   "cell_type": "code",
   "execution_count": null,
   "id": "fa3d4374-8901-4acf-b166-0b6fa05f1694",
   "metadata": {
    "tags": []
   },
   "outputs": [],
   "source": [
    "from scipy.stats import binned_statistic_2d as bs2d\n",
    "plt.title('g-band PSF size variation')\n",
    "val, xedge, yedge, bincount = bs2d(data[\"g_ra\"],data[\"g_decl\"],data['T_PSF'],statistic='median',bins=100)\n",
    "plt.imshow(val,extent=[xedge[0],xedge[-1],yedge[0],yedge[-1]])\n",
    "plt.colorbar()\n",
    "plt.show()\n"
   ]
  },
  {
   "cell_type": "code",
   "execution_count": null,
   "id": "3e6e0698-3365-4194-87ec-220e3b15fe15",
   "metadata": {},
   "outputs": [],
   "source": []
  }
 ],
 "metadata": {
  "kernelspec": {
   "display_name": "desc-python",
   "language": "python",
   "name": "desc-python"
  },
  "language_info": {
   "codemirror_mode": {
    "name": "ipython",
    "version": 3
   },
   "file_extension": ".py",
   "mimetype": "text/x-python",
   "name": "python",
   "nbconvert_exporter": "python",
   "pygments_lexer": "ipython3",
   "version": "3.10.13"
  }
 },
 "nbformat": 4,
 "nbformat_minor": 5
}
