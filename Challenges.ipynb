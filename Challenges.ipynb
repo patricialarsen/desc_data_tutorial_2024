{
 "cells": [
  {
   "cell_type": "markdown",
   "id": "1506cdb0-4a44-4ed0-b353-47267492692a",
   "metadata": {},
   "source": [
    "# Challenges!\n",
    "\n",
    "Okay you should have everything you need to get started looking at and validating the data. Go ahead and make your own plots! \n",
    "\n",
    "I have some suggestions below that the SRV group would love to get some new validation tests drafted for, but anything you or your working group wants to know about the data before it goes through an analysis pipeline is fair game! Or just test out using the DP0.2 data for your own analysis \n",
    "\n",
    "Some FAQs:\n",
    "* There are no photometric redshifts available for this data at this part of the pipleline, see the RAIL tutorial for more details on those\n",
    "* There are no metadetect shears available due to development timelines, however HSM moments are available in the catalog\n",
    "* If you want direct comparison tests we can match to the truth catalog for DP0.2 (and with SSI catalogs for testing), ask me to set up a quick yaml file if you'd like to draft one for DP0.2 vs the cosmoDC2 inputs (note to self let's make this!) "
   ]
  },
  {
   "cell_type": "markdown",
   "id": "1965bd60-6173-44ba-b56a-a8ea3dbdf7bd",
   "metadata": {},
   "source": [
    "## Tasks! \n",
    "\n",
    "* Estimate the 5-sigma limiting magnitude (using the psfFlux and definitions as described in https://dmtn-296.lsst.io/) and make a plot of the average value over RA/dec\n",
    "    * Repeat for all bands (grizuy) \n",
    "    \n"
   ]
  },
  {
   "cell_type": "code",
   "execution_count": null,
   "id": "2f270c59-956a-4397-92e0-4be5c10767a5",
   "metadata": {},
   "outputs": [],
   "source": []
  }
 ],
 "metadata": {
  "kernelspec": {
   "display_name": "desc-python",
   "language": "python",
   "name": "desc-python"
  },
  "language_info": {
   "codemirror_mode": {
    "name": "ipython",
    "version": 3
   },
   "file_extension": ".py",
   "mimetype": "text/x-python",
   "name": "python",
   "nbconvert_exporter": "python",
   "pygments_lexer": "ipython3",
   "version": "3.10.13"
  }
 },
 "nbformat": 4,
 "nbformat_minor": 5
}
